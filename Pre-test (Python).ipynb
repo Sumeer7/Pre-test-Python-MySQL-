{
 "cells": [
  {
   "cell_type": "code",
   "execution_count": 3,
   "metadata": {},
   "outputs": [],
   "source": [
    "def positive_case():\n",
    "    print(\"=\"*50)\n",
    "    print(\"Input1: \",input1)\n",
    "    print(\"Input2: \",input2)\n",
    "    print(\"Output: \",len(se))\n",
    "    print(\"Reason: The Output is\",len(se),\"since the following\",len(se),\"lines can drawn\",tuple(se))\n",
    "def negative_case():\n",
    "    print(\"Input1: \",input1)\n",
    "    print(\"Input2: \",input2)\n",
    "    print(\"Output: \",\"invalid input\")\n",
    "    print(\"Reason: The Output is invalid because edges are more then number of nodes or there is 0 or less then 0\")\n",
    "    print()   "
   ]
  },
  {
   "cell_type": "code",
   "execution_count": 6,
   "metadata": {},
   "outputs": [
    {
     "name": "stdout",
     "output_type": "stream",
     "text": [
      "input1 :4\n",
      "input2 :{{1,2,1,1},{2,1,3,4}}\n",
      "==================================================\n",
      "Input1:  4\n",
      "Input2:  {{1,2,1,1},{2,1,3,4}}\n",
      "Output:  3\n",
      "Reason: The Output is 3 since the following 3 lines can drawn ((1, 2), (1, 3), (1, 4))\n"
     ]
    }
   ],
   "source": [
    "def set_matrix(x):\n",
    "    input3=x[2:-2]\n",
    "    temp_var=\"\"\n",
    "    for i in (input3):\n",
    "        if (i==\"}\" ):\n",
    "            continue\n",
    "        else:\n",
    "            temp_var=temp_var+i\n",
    "    temp_var=temp_var.split(\",\" and \"{\")\n",
    "    d=temp_var[0].split(\",\")\n",
    "    r=temp_var[1].split(\",\")\n",
    "    temp_var1=(list(zip(d,r)))\n",
    "    return temp_var1\n",
    "\n",
    "try:\n",
    "    input1=int(input(\"input1 :\"))\n",
    "    input2=input(\"input2 :\")\n",
    "    temp4=set_matrix(input2)\n",
    "    ab=[]\n",
    "    bc=[]\n",
    "    for i in temp4:\n",
    "        o=int(i[0])\n",
    "        f=int(i[1])\n",
    "        ab.append(o)\n",
    "        bc.append(f)\n",
    "    zipped=list(zip(ab,bc))\n",
    "    tempo=[]\n",
    "    for i in zipped:\n",
    "        if ((i[0]<1) or (i[1]<1)) or (i[0]>input1 or i[1]>input1):\n",
    "            tempo.append(\"False\")\n",
    "            break\n",
    "\n",
    "    if (\"False\" not in tempo):\n",
    "        zipp=list(zip(ab,bc))\n",
    "        se=[]\n",
    "        for i in zipp:\n",
    "            if ((i not in se) and (i[::-1] not in se)):\n",
    "                se.append(i)\n",
    "        positive_case()\n",
    "\n",
    "    elif (\"False\" in tempo):\n",
    "        negative_case()     \n",
    "    \n",
    "except Exception as e:\n",
    "    print(\"=\"*100)\n",
    "    print(\"Invalid input as your are giving improper input in input1 or in input2 or number of nodes are not equal to number of edges\")"
   ]
  },
  {
   "cell_type": "code",
   "execution_count": null,
   "metadata": {},
   "outputs": [],
   "source": []
  }
 ],
 "metadata": {
  "kernelspec": {
   "display_name": "Python 3",
   "language": "python",
   "name": "python3"
  },
  "language_info": {
   "codemirror_mode": {
    "name": "ipython",
    "version": 3
   },
   "file_extension": ".py",
   "mimetype": "text/x-python",
   "name": "python",
   "nbconvert_exporter": "python",
   "pygments_lexer": "ipython3",
   "version": "3.8.5"
  }
 },
 "nbformat": 4,
 "nbformat_minor": 4
}
